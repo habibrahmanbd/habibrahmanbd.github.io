{
 "cells": [
  {
   "cell_type": "markdown",
   "metadata": {},
   "source": [
    "# Summer 2022 Data Science Intern Challenge"
   ]
  },
  {
   "cell_type": "markdown",
   "metadata": {},
   "source": [
    "### Question 1: Given some sample data, write a program to answer the following:\n",
    "\n",
    "On Shopify, we have exactly 100 sneaker shops, and each of these shops sells only one model of shoe. We want to do some analysis of the average order value (AOV). When we look at orders data over a 30 day window, we naively calculate an AOV of $3145.13. Given that we know these shops are selling sneakers, a relatively affordable item, something seems wrong with our analysis."
   ]
  },
  {
   "cell_type": "markdown",
   "metadata": {},
   "source": [
    "Data cleaning is one of the most important steps for any orgranization before decision-making based on those data. To anawer the Question -1, I will go each and every steps to varify the Average Order Value (AOV) and justify it.\n",
    "\n",
    "Firstly, let's read the dataset with `Pandas` in `python3`."
   ]
  },
  {
   "cell_type": "code",
   "execution_count": 1,
   "metadata": {},
   "outputs": [
    {
     "data": {
      "text/html": [
       "<div>\n",
       "<style scoped>\n",
       "    .dataframe tbody tr th:only-of-type {\n",
       "        vertical-align: middle;\n",
       "    }\n",
       "\n",
       "    .dataframe tbody tr th {\n",
       "        vertical-align: top;\n",
       "    }\n",
       "\n",
       "    .dataframe thead th {\n",
       "        text-align: right;\n",
       "    }\n",
       "</style>\n",
       "<table border=\"1\" class=\"dataframe\">\n",
       "  <thead>\n",
       "    <tr style=\"text-align: right;\">\n",
       "      <th></th>\n",
       "      <th>order_id</th>\n",
       "      <th>shop_id</th>\n",
       "      <th>user_id</th>\n",
       "      <th>order_amount</th>\n",
       "      <th>total_items</th>\n",
       "      <th>payment_method</th>\n",
       "      <th>created_at</th>\n",
       "    </tr>\n",
       "  </thead>\n",
       "  <tbody>\n",
       "    <tr>\n",
       "      <th>0</th>\n",
       "      <td>1</td>\n",
       "      <td>53</td>\n",
       "      <td>746</td>\n",
       "      <td>224</td>\n",
       "      <td>2</td>\n",
       "      <td>cash</td>\n",
       "      <td>2017-03-13 12:36:56</td>\n",
       "    </tr>\n",
       "    <tr>\n",
       "      <th>1</th>\n",
       "      <td>2</td>\n",
       "      <td>92</td>\n",
       "      <td>925</td>\n",
       "      <td>90</td>\n",
       "      <td>1</td>\n",
       "      <td>cash</td>\n",
       "      <td>2017-03-03 17:38:52</td>\n",
       "    </tr>\n",
       "    <tr>\n",
       "      <th>2</th>\n",
       "      <td>3</td>\n",
       "      <td>44</td>\n",
       "      <td>861</td>\n",
       "      <td>144</td>\n",
       "      <td>1</td>\n",
       "      <td>cash</td>\n",
       "      <td>2017-03-14 4:23:56</td>\n",
       "    </tr>\n",
       "    <tr>\n",
       "      <th>3</th>\n",
       "      <td>4</td>\n",
       "      <td>18</td>\n",
       "      <td>935</td>\n",
       "      <td>156</td>\n",
       "      <td>1</td>\n",
       "      <td>credit_card</td>\n",
       "      <td>2017-03-26 12:43:37</td>\n",
       "    </tr>\n",
       "    <tr>\n",
       "      <th>4</th>\n",
       "      <td>5</td>\n",
       "      <td>18</td>\n",
       "      <td>883</td>\n",
       "      <td>156</td>\n",
       "      <td>1</td>\n",
       "      <td>credit_card</td>\n",
       "      <td>2017-03-01 4:35:11</td>\n",
       "    </tr>\n",
       "  </tbody>\n",
       "</table>\n",
       "</div>"
      ],
      "text/plain": [
       "   order_id  shop_id  user_id  order_amount  total_items payment_method  \\\n",
       "0         1       53      746           224            2           cash   \n",
       "1         2       92      925            90            1           cash   \n",
       "2         3       44      861           144            1           cash   \n",
       "3         4       18      935           156            1    credit_card   \n",
       "4         5       18      883           156            1    credit_card   \n",
       "\n",
       "            created_at  \n",
       "0  2017-03-13 12:36:56  \n",
       "1  2017-03-03 17:38:52  \n",
       "2   2017-03-14 4:23:56  \n",
       "3  2017-03-26 12:43:37  \n",
       "4   2017-03-01 4:35:11  "
      ]
     },
     "execution_count": 1,
     "metadata": {},
     "output_type": "execute_result"
    }
   ],
   "source": [
    "import pandas as pd\n",
    "dataset = pd.read_csv('2019 Winter Data Science Intern Challenge Data Set.csv')\n",
    "\n",
    "# Showing 5 rows from the dataset\n",
    "dataset.head(n = 5)"
   ]
  },
  {
   "cell_type": "markdown",
   "metadata": {},
   "source": [
    "From the above table, we can infer the following features from the column names:\n",
    "- `order_id`: ID for each of the order placed. `datatype`: int \n",
    "- `shop_id`: ID for specific shops. `datatype`: int\n",
    "- `user_id`: ID for specific users. `datatype`: int\n",
    "- `order_amount`: Amount of the specific order. `datatype`: float\n",
    "- `total_items`: Number of items in a particular order. `datatype`: int\n",
    "- `payment_method`: Method of payment while placing the order. `datatype`: string\n",
    "- `created_at`: Time of placing the order. `datatype`: datetime"
   ]
  },
  {
   "cell_type": "markdown",
   "metadata": {},
   "source": [
    "Now, we will check for incorrectly formatted, duplicate, or incomplete data within our dataset. We can check for missing data in our dataset as follows:"
   ]
  },
  {
   "cell_type": "code",
   "execution_count": 2,
   "metadata": {},
   "outputs": [
    {
     "data": {
      "text/plain": [
       "False"
      ]
     },
     "execution_count": 2,
     "metadata": {},
     "output_type": "execute_result"
    }
   ],
   "source": [
    "dataset.isnull().any().any()"
   ]
  },
  {
   "cell_type": "markdown",
   "metadata": {},
   "source": [
    "From the above output, we can see that all cells in the table are `false` i.e. there is no standard `NaN`, empty or missing values in the dataset. However, there can be some non-standard missing values like `n/a`, `NA`, `--`, `na`. Let's check for those as follows."
   ]
  },
  {
   "cell_type": "code",
   "execution_count": 3,
   "metadata": {},
   "outputs": [
    {
     "data": {
      "text/plain": [
       "False"
      ]
     },
     "execution_count": 3,
     "metadata": {},
     "output_type": "execute_result"
    }
   ],
   "source": [
    "non_standard_missing_values = ['n/a', 'NA', '--', 'na']\n",
    "dataset = pd.read_csv('2019 Winter Data Science Intern Challenge Data Set.csv', na_values=non_standard_missing_values)\n",
    "dataset.isnull().any().any()"
   ]
  },
  {
   "cell_type": "code",
   "execution_count": 4,
   "metadata": {},
   "outputs": [
    {
     "data": {
      "text/plain": [
       "False"
      ]
     },
     "execution_count": 4,
     "metadata": {},
     "output_type": "execute_result"
    }
   ],
   "source": [
    "dataset.isna().any().any()"
   ]
  },
  {
   "cell_type": "markdown",
   "metadata": {},
   "source": [
    "From the above result, we can conclude that there is no missing values in our dataset. Now, we can check for duplicate data in the dataset."
   ]
  },
  {
   "cell_type": "code",
   "execution_count": 5,
   "metadata": {},
   "outputs": [
    {
     "data": {
      "text/plain": [
       "False"
      ]
     },
     "execution_count": 5,
     "metadata": {},
     "output_type": "execute_result"
    }
   ],
   "source": [
    "dataset.duplicated(subset=None, keep='first').any()"
   ]
  },
  {
   "cell_type": "markdown",
   "metadata": {},
   "source": [
    "So, there is no duplicate data in our dataset. So, we can now start analyzing our data. "
   ]
  },
  {
   "cell_type": "markdown",
   "metadata": {},
   "source": [
    "#### a. Think about what could be going wrong with our calculation. Think about a better way to evaluate this data.\n",
    "In this step, we will calculate the mean of the `order_amount` which is the Average order value (AOV) in this case. Apart from that, we will calculate the median of the oder_amount."
   ]
  },
  {
   "cell_type": "code",
   "execution_count": 6,
   "metadata": {},
   "outputs": [
    {
     "name": "stdout",
     "output_type": "stream",
     "text": [
      "Mean of Order Amount or AOV:  3145.128\n",
      "Median of the Order Amount:  284.0\n"
     ]
    }
   ],
   "source": [
    "print(\"Mean of Order Amount or AOV: \", dataset['order_amount'].mean())\n",
    "print(\"Median of the Order Amount: \", dataset['order_amount'].median())"
   ]
  },
  {
   "cell_type": "markdown",
   "metadata": {},
   "source": [
    "From the above mean and median, we can see that the distance between the mean and the median is huge. So, we can suspect that, there is something wrong in our data. To understand, the summary of our dataset, lets try to summaries our dataset."
   ]
  },
  {
   "cell_type": "code",
   "execution_count": 7,
   "metadata": {},
   "outputs": [
    {
     "data": {
      "text/plain": [
       "count      5000.000000\n",
       "mean       3145.128000\n",
       "std       41282.539349\n",
       "min          90.000000\n",
       "25%         163.000000\n",
       "50%         284.000000\n",
       "75%         390.000000\n",
       "max      704000.000000\n",
       "Name: order_amount, dtype: float64"
      ]
     },
     "execution_count": 7,
     "metadata": {},
     "output_type": "execute_result"
    }
   ],
   "source": [
    "dataset['order_amount'].describe()"
   ]
  },
  {
   "cell_type": "markdown",
   "metadata": {},
   "source": [
    "From the above summary, we can say that there are some serious issues on the `order_amount` because Standard Deviation (std) of `order_amount` is **41282.539349**, which is very large compared to the mean. Which can be interpreted as the order amount spreaded over an extreme wide range though 75% of the oders are within 390.0. So, we can conclude that there are some outliers in our dataset for order amount. To detect the outlier, let's plot the total items vs order amount for the dataset."
   ]
  },
  {
   "cell_type": "code",
   "execution_count": 8,
   "metadata": {},
   "outputs": [
    {
     "data": {
      "image/png": "[encoded data removed]",
      "text/plain": [
       "<Figure size 432x288 with 1 Axes>"
      ]
     },
     "metadata": {
      "needs_background": "light"
     },
     "output_type": "display_data"
    }
   ],
   "source": [
    "import matplotlib.pyplot as plt\n",
    "def data_show(dataset, title):\n",
    "    plt.scatter(x = dataset['created_at'], y = dataset['order_amount'])\n",
    "    plt.xlabel('Order Time')\n",
    "    plt.ylabel('Order Amount')\n",
    "    plt.title(title)\n",
    "    plt.show()\n",
    "\n",
    "\n",
    "data_show(dataset, \"Distribution of Order amounts over the month\")\n"
   ]
  },
  {
   "cell_type": "markdown",
   "metadata": {},
   "source": [
    "From the above Figure, we can see that there are some orders in which order amount are more than 700000. As mentioned in the problem statement, those shopes sell relatively affordable items. Apart from that, those shopes sell only one type of shoe. So, in a single order, selling 700000 in a single order is quite unlikely. Apart from that, one order amount is more than 150000 where as most of the order amounts are near to 100000. So, those datas can be anomaly in our dataset.\n",
    "\n",
    "To analyze more, lets show the shop_ids of those orders."
   ]
  },
  {
   "cell_type": "code",
   "execution_count": 9,
   "metadata": {},
   "outputs": [
    {
     "name": "stdout",
     "output_type": "stream",
     "text": [
      "[42 78]\n"
     ]
    }
   ],
   "source": [
    "print(dataset[dataset['order_amount'] > 150000]['shop_id'].unique())"
   ]
  },
  {
   "cell_type": "markdown",
   "metadata": {},
   "source": [
    "So, we can see that only two shops are skewing the distribution of our AOV. To analyze more, lets analyze the orders of those two shops one by one."
   ]
  },
  {
   "cell_type": "code",
   "execution_count": 10,
   "metadata": {},
   "outputs": [
    {
     "data": {
      "image/png": "[encoded data removed]",
      "text/plain": [
       "<Figure size 432x288 with 1 Axes>"
      ]
     },
     "metadata": {
      "needs_background": "light"
     },
     "output_type": "display_data"
    }
   ],
   "source": [
    "data_show(dataset[dataset['shop_id'] == 42], title = \"Selling distribution of Shop 42\")"
   ]
  },
  {
   "cell_type": "markdown",
   "metadata": {},
   "source": [
    "***Shop ID 42*** is selling unusually than the other stores. We can see the per unit price of this store."
   ]
  },
  {
   "cell_type": "code",
   "execution_count": 11,
   "metadata": {},
   "outputs": [
    {
     "name": "stdout",
     "output_type": "stream",
     "text": [
      "[352.]\n"
     ]
    }
   ],
   "source": [
    "print((dataset[dataset['shop_id'] ==42 ]['order_amount'] / dataset[dataset['shop_id'] ==42]['total_items']).unique())"
   ]
  },
  {
   "cell_type": "markdown",
   "metadata": {},
   "source": [
    "So, for **shop id 42**, we can say they may ***selling bulk*** amount of shoes in a single order. However, we know shops are ordinary shops and they sell affordable shoes. It's also questionable that they are selling a single pair of shoes of cost $352 which is also unusal."
   ]
  },
  {
   "cell_type": "code",
   "execution_count": 12,
   "metadata": {},
   "outputs": [
    {
     "data": {
      "image/png": "[encoded data removed]",
      "text/plain": [
       "<Figure size 432x288 with 1 Axes>"
      ]
     },
     "metadata": {
      "needs_background": "light"
     },
     "output_type": "display_data"
    }
   ],
   "source": [
    "data_show(dataset[dataset['shop_id'] == 78],\n",
    "          title=\"Selling distribution of Shop 78\")"
   ]
  },
  {
   "cell_type": "code",
   "execution_count": 13,
   "metadata": {},
   "outputs": [
    {
     "name": "stdout",
     "output_type": "stream",
     "text": [
      "[25725.]\n"
     ]
    }
   ],
   "source": [
    "print((dataset[dataset['shop_id'] == 78]['order_amount'] /\n",
    "      dataset[dataset['shop_id'] == 78]['total_items']).unique())"
   ]
  },
  {
   "cell_type": "markdown",
   "metadata": {},
   "source": [
    "From the above analysis of **Shop Id 78**, we see that this store selling a single pair shoe at $25725.0 which is questionable. So, this store oders are anomaly for our dataset.\n",
    "\n",
    "\n",
    "In conclusion, we are going to remove those two stores from our dataset to calculate our AOV."
   ]
  },
  {
   "cell_type": "code",
   "execution_count": 14,
   "metadata": {},
   "outputs": [
    {
     "name": "stdout",
     "output_type": "stream",
     "text": [
      "Mean of the order amount or AOV:  300.1558229655313\n",
      "Median of the order amount:  284.0\n"
     ]
    }
   ],
   "source": [
    "dataset_cleaned = dataset[(dataset['shop_id'] != 42)\n",
    "                          & (dataset['shop_id'] != 78)]\n",
    "print('Mean of the order amount or AOV: ', dataset_cleaned['order_amount'].mean())\n",
    "print('Median of the order amount: ',\n",
    "      dataset_cleaned['order_amount'].median())\n"
   ]
  },
  {
   "cell_type": "markdown",
   "metadata": {},
   "source": [
    "So, without those two store oders, our AOV seems quit in the right track and it's about $300.15."
   ]
  },
  {
   "cell_type": "markdown",
   "metadata": {},
   "source": [
    "#### b. What metric would you report for this dataset?"
   ]
  },
  {
   "cell_type": "markdown",
   "metadata": {},
   "source": [
    "It's difficult to say that one fits to all. For reporting any data, we need to analyze different metrics in different situation. Average Oder Value (AOV) in this case does not seems promozing because some orders and the order amount made it skewed. However, if we consider the premium products in our stores and bluk amount of sells, then AOV doesn't give us that much sense. Howver, if we anaylyze the Median Order Value in this case, we may get some insight."
   ]
  },
  {
   "cell_type": "markdown",
   "metadata": {},
   "source": [
    "Depending on the order_amount those skewed the AOV, the can categories the main problem into two diffent types as follows:\n",
    "- Bluk Sell: If there is a bulk amount of sell.\n",
    "    - Define some range or categories depending on the `total_items` and report the AOV.\n",
    "- Premium Product: If a store sell premium collection of items, it will skew our AOV.\n",
    "    - To solve this issue, we can report the **Median Order Value (MOV)** addition to the Average/Mean Order Value while categorizing by total items. We can also add the Standard Deviation to understand which category skewing the dataset in AOV."
   ]
  },
  {
   "cell_type": "markdown",
   "metadata": {},
   "source": [
    "#### c. What is its value?"
   ]
  },
  {
   "cell_type": "markdown",
   "metadata": {},
   "source": [
    "**Categorized by Total Items:**"
   ]
  },
  {
   "cell_type": "code",
   "execution_count": 15,
   "metadata": {},
   "outputs": [
    {
     "name": "stdout",
     "output_type": "stream",
     "text": [
      "   total_items            AOV\n",
      "0            1     417.364481\n",
      "1            2     750.215066\n",
      "2            3    1191.076514\n",
      "3            4     947.686007\n",
      "4            5     759.350649\n",
      "5            6   17940.000000\n",
      "6            8    1064.000000\n",
      "7         2000  704000.000000\n"
     ]
    }
   ],
   "source": [
    "categorizedTotalItems = dataset.groupby(\n",
    "    'total_items')['order_amount'].mean().reset_index(name='AOV')\n",
    "print(categorizedTotalItems)\n"
   ]
  },
  {
   "cell_type": "markdown",
   "metadata": {},
   "source": [
    "From the above output, we can see the value of Average Order Value categorized by total items."
   ]
  },
  {
   "cell_type": "markdown",
   "metadata": {},
   "source": [
    "**Median Order Value:**"
   ]
  },
  {
   "cell_type": "code",
   "execution_count": 16,
   "metadata": {},
   "outputs": [
    {
     "name": "stdout",
     "output_type": "stream",
     "text": [
      "   total_items            AOV       MOV           STD\n",
      "0            1     417.364481     153.0   2593.090627\n",
      "1            2     750.215066     306.0   4760.572162\n",
      "2            3    1191.076514     459.0   7471.160149\n",
      "3            4     947.686007     592.0   5977.632918\n",
      "4            5     759.350649     765.0    161.174453\n",
      "5            6   17940.000000     948.0  51153.864136\n",
      "6            8    1064.000000    1064.0           NaN\n",
      "7         2000  704000.000000  704000.0      0.000000\n"
     ]
    }
   ],
   "source": [
    "median = dataset.groupby(\n",
    "    'total_items')['order_amount'].median().reset_index(name='MOV')['MOV']\n",
    "std = dataset.groupby(\n",
    "    'total_items')['order_amount'].std().reset_index(name='STD')['STD']\n",
    "categorizedTotalItems['MOV'] = median\n",
    "categorizedTotalItems['STD'] = std\n",
    "print(categorizedTotalItems)\n"
   ]
  },
  {
   "cell_type": "markdown",
   "metadata": {},
   "source": [
    "From the above output, we see the Median Order Value (MOV) and the Standard Deviation of the dataset categorized by total items. However, for the total items of 8, there was only one order, that's the reason of NaN value of STD. Apart from that, for total items of 2000, all the orders are 704000.0, so the STD is 0."
   ]
  },
  {
   "cell_type": "markdown",
   "metadata": {},
   "source": [
    "### Question 2: For this question you’ll need to use SQL. Follow this link to access the data set required for the challenge. Please use queries to answer the following questions. Paste your queries along with your final numerical answers below."
   ]
  },
  {
   "cell_type": "markdown",
   "metadata": {},
   "source": [
    "#### a. How many orders were shipped by Speedy Express in total?"
   ]
  },
  {
   "cell_type": "markdown",
   "metadata": {},
   "source": [
    "```sql\n",
    "SELECT ShipperName, COUNT(Orders.ShipperID)\n",
    "FROM Orders, Shippers WHERE Orders.ShipperID = Shippers.ShipperID AND Orders.ShipperID IN(SELECT Shippers.ShipperID FROM Shippers WHERE Shippers.ShipperName=\"Speedy Express\")\n",
    "```\n",
    "\n",
    "**Output:**\n",
    "|ShipperName\t| COUNT(Orders.ShipperID) |\n",
    "|-------------------|-------------------|\n",
    "| Speedy Express|\t        54 |"
   ]
  },
  {
   "cell_type": "markdown",
   "metadata": {},
   "source": [
    "#### b. What is the last name of the employee with the most orders?"
   ]
  },
  {
   "cell_type": "markdown",
   "metadata": {},
   "source": [
    "```sql\n",
    "SELECT Orders.EmployeeID, Employees.LastName, COUNT(Employees.LastName) FROM (Orders, Employees) WHERE (Orders.EmployeeID = Employees.EmployeeID) GROUP BY Orders.EmployeeID ORDER BY COUNT(Employees.LastName) DESC;\n",
    "```\n",
    "**Output:**\n",
    "\n",
    "| EmployeeID |\tLastName |\tCOUNT(Employees.LastName)|\n",
    "|------------|-----------|---------------------------|\n",
    "|4\t| Peacock|\t40|\n",
    "|3\t| Leverling|\t31|\n",
    "|1\t|Davolio|\t29|\n",
    "|8|\tCallahan|\t27|\n",
    "|2|\tFuller\t|20|\n",
    "|6|\tSuyama\t|18|\n",
    "|7|\tKing\t|14|\n",
    "|5|\tBuchanan\t|11|\n",
    "|9|\tDodsworth\t|6|\n",
    "\n",
    "\n",
    "So, the most frequent LastName with `Orders' is the `Peacock`."
   ]
  },
  {
   "cell_type": "markdown",
   "metadata": {},
   "source": [
    "#### c. What product was ordered the most by customers in Germany?"
   ]
  },
  {
   "cell_type": "markdown",
   "metadata": {},
   "source": [
    "```sql\n",
    "SELECT ProductName, MAX(ProductCount), Country FROM (SELECT Products.ProductName as ProductName, COUNT(Products.ProductName) as ProductCount, Customers.Country as Country FROM (Orders, Customers, OrderDetails, Products) WHERE (Orders.CustomerID=Customers.CustomerID AND Orders.OrderID=OrderDetails.OrderID AND Products.ProductID=OrderDetails.ProductID AND Customers.Country = 'Germany') GROUP BY Products.ProductName Order by COUNT(Products.ProductName) Desc);\n",
    "```"
   ]
  },
  {
   "cell_type": "markdown",
   "metadata": {},
   "source": [
    "Output:\n",
    "|ProductName|\tMAX(ProductCount)|\tCountry|\n",
    "|-----------|--------------------|---------|\n",
    "|Gorgonzola Telino|\t5\t|Germany|\n",
    "\n",
    "So, **Gorgonzola Telino** was the most frequent product ordered by cutomers in Germany."
   ]
  }
 ],
 "metadata": {
  "interpreter": {
   "hash": "b0fa6594d8f4cbf19f97940f81e996739fb7646882a419484c72d19e05852a7e"
  },
  "kernelspec": {
   "display_name": "Python 3.9.9 64-bit",
   "language": "python",
   "name": "python3"
  },
  "language_info": {
   "codemirror_mode": {
    "name": "ipython",
    "version": 3
   },
   "file_extension": ".py",
   "mimetype": "text/x-python",
   "name": "python",
   "nbconvert_exporter": "python",
   "pygments_lexer": "ipython3",
   "version": "3.9.7"
  },
  "orig_nbformat": 4
 },
 "nbformat": 4,
 "nbformat_minor": 2
}
